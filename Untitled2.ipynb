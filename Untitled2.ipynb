{
  "nbformat": 4,
  "nbformat_minor": 0,
  "metadata": {
    "colab": {
      "provenance": []
    },
    "kernelspec": {
      "name": "python3",
      "display_name": "Python 3"
    },
    "language_info": {
      "name": "python"
    }
  },
  "cells": [
    {
      "cell_type": "code",
      "execution_count": 2,
      "metadata": {
        "colab": {
          "base_uri": "https://localhost:8080/"
        },
        "id": "UXfukiGvh2MY",
        "outputId": "41b96fac-c37e-4018-81a8-493260506872"
      },
      "outputs": [
        {
          "output_type": "stream",
          "name": "stdout",
          "text": [
            "Adjusted R-squared: 0.7421875\n",
            "reg no:11162220118\n"
          ]
        }
      ],
      "source": [
        "def adjusted_r_squared(r_squared, n, k):\n",
        "   adjusted_r_squared = 1 - ((1 - r_squared) * (n - 1) / (n - k - 1))\n",
        "   return adjusted_r_squared\n",
        "r_squared_value = 0.75\n",
        "n_obs = 100\n",
        "n_pred = 3\n",
        "result = adjusted_r_squared(r_squared_value, n_obs, n_pred)\n",
        "\n",
        "print(\"Adjusted R-squared:\", result)\n",
        "print(\"reg no:11162220118\")"
      ]
    }
  ]
}